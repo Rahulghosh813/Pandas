{
 "cells": [
  {
   "cell_type": "markdown",
   "metadata": {
    "colab_type": "text",
    "id": "MPo4XkxnGVL8"
   },
   "source": [
    "# Improve CampusX\n",
    "\n",
    "## Instructions\n",
    "\n",
    "1. You have to submit your solutions before **6:00pm tomorrow**\n",
    "2. The problems that I have given(**except the 1st one**) are problems with which we are also dealing with. So, in a way we are asking for your help through this hackathon.\n",
    "3. To be honest solving even a single question is a big deal in the given time duration. So, please don't get **frustrated** if you are not able to solve even one problem. \n",
    "4. A request - **don't quit**. Infact **never quit**.\n",
    "5. Marking Scheme for this hackathon is as follows\n",
    "**Total Marks=200**\n",
    "but, while adding this to your dashboard, your total marks will be divided by a **factor of 10**.\n",
    "So, let's say you scored 90 in the hackathon, you dashboard score would be 9\n",
    "6. Top 3 performers will get a **prize**, when we will meet next.Promise:)\n"
   ]
  },
  {
   "cell_type": "code",
   "execution_count": 3,
   "metadata": {},
   "outputs": [],
   "source": [
    "import pandas as pd\n",
    "import numpy as np"
   ]
  },
  {
   "cell_type": "code",
   "execution_count": 4,
   "metadata": {},
   "outputs": [
    {
     "name": "stderr",
     "output_type": "stream",
     "text": [
      "b'Skipping line 16: expected 7 fields, saw 10\\n'\n"
     ]
    }
   ],
   "source": [
    "batch=pd.read_csv(\"batch.csv\")\n",
    "batch_task=pd.read_csv(\"batch_task.csv\")\n",
    "content=pd.read_csv(\"content.csv\")\n",
    "course=pd.read_csv(\"course.csv\")\n",
    "evaluation=pd.read_csv(\"evaluation.csv\")\n",
    "gyan=pd.read_csv(\"gyan.csv\")\n",
    "link_preview=pd.read_csv(\"link_preview_details.csv\")\n",
    "module=pd.read_csv(\"module.csv\")\n",
    "myday=pd.read_csv(\"myday.csv\")\n",
    "tasks=pd.read_csv(\"tasks.csv\",encoding='latin-1',error_bad_lines=False)\n",
    "url_task=pd.read_csv(\"url_task.csv\")\n",
    "users=pd.read_csv(\"users.csv\")"
   ]
  },
  {
   "cell_type": "markdown",
   "metadata": {
    "colab_type": "text",
    "id": "J0fvZDeaGdu9"
   },
   "source": [
    "**Problem 1** : Write a python function which will receive 3 input i.e. batch name, start date and end date and returns the leaderboard(in that date window) of that particular batch with the following pieces of info - Name, Marks(till now)\n",
    "\n",
    "Note: If no date range is provided, show the leaderboard for the entire duration of the course\n",
    "\n",
    "**Marks -10**"
   ]
  },
  {
   "cell_type": "code",
   "execution_count": 583,
   "metadata": {
    "colab": {},
    "colab_type": "code",
    "id": "M5mpxSKkG6Lt"
   },
   "outputs": [],
   "source": [
    "# Write your code here\n",
    "def namemarks(l1,d1='0-0-0',d2='0-0-0'):\n",
    "    x1=evaluation.merge(users,left_on='user_id',right_on='user_id')\n",
    "    x1=x1.merge(batch,left_on='batch_id',right_on='batch_id')\n",
    "    x2=x1['batch_name']==l1\n",
    "    x2=x1[x2]\n",
    "    if(d1!='0-0-0' and d2!='0-0-0'):\n",
    "        x4=x2['evaluation_date']>d1\n",
    "        x5=x2['evaluation_date']<d2\n",
    "        x6=x2[x4 & x5]\n",
    "    else:\n",
    "        x6=x2\n",
    "    x7=x6.groupby(['fname','lname'])\n",
    "    x7=x7['score'].sum().sort_values(ascending=False)\n",
    "    x7\n",
    "    return x7"
   ]
  },
  {
   "cell_type": "code",
   "execution_count": 587,
   "metadata": {},
   "outputs": [
    {
     "data": {
      "text/plain": [
       "fname      lname       \n",
       "Shakib     Mondal          47.0\n",
       "Shantanu   Shubham         44.0\n",
       "Kunal      N. Gohrani      43.5\n",
       "Sushree    Siddhishikha    42.0\n",
       "Dipam      Hazra           42.0\n",
       "Purbita    Sur             37.0\n",
       "Bhavna     Kumari          33.0\n",
       "Vishal     Malo            31.5\n",
       "Chandrima  Sarkar          27.0\n",
       "Arya       Sarkar          23.0\n",
       "Surabhi    Basak           22.0\n",
       "Kaushal    Agarwal         18.0\n",
       "Ujjainee   De              17.0\n",
       "Roumyak    Biswas           9.0\n",
       "Durga      Agarwal          8.5\n",
       "Prasoon    Thakur           8.0\n",
       "Sharika    Anjum Mondal     6.0\n",
       "Name: score, dtype: float64"
      ]
     },
     "execution_count": 587,
     "metadata": {},
     "output_type": "execute_result"
    }
   ],
   "source": [
    "namemarks('Machine Learning Kolkata 1','2020-01-20','2020-01-39')\n",
    "#namemarks('Machine Learning Kolkata 1')"
   ]
  },
  {
   "cell_type": "markdown",
   "metadata": {
    "colab_type": "text",
    "id": "LRkneACyI35s"
   },
   "source": [
    "**Problem 2**: Write a python function that receives 1 input, batch_name and returns the list of top 10 students who require maximum attention from the teacher.\n",
    "\n",
    "**Note**: I know this is kind of abstract, but truly we are facing this problem. Try to come up with a solution/algorithm. \n",
    "\n",
    "**Tip** : Don't just think in terms of marks, also think about things like late submissions, number of submissions, myday etc\n",
    "\n",
    "**Tricky scenario**: Aisa bhi ho sakta hai koi student bas shuru me acha perform nai kar raha tha, but ab kar raha hai. So consider dates also.\n",
    "\n",
    "**Marks : 50**"
   ]
  },
  {
   "cell_type": "code",
   "execution_count": null,
   "metadata": {},
   "outputs": [],
   "source": []
  },
  {
   "cell_type": "code",
   "execution_count": 0,
   "metadata": {
    "colab": {},
    "colab_type": "code",
    "id": "-A_ZLtX8HeQ2"
   },
   "outputs": [],
   "source": [
    "# Write your code here"
   ]
  },
  {
   "cell_type": "markdown",
   "metadata": {
    "colab_type": "text",
    "id": "NjDwO7mTKwSj"
   },
   "source": [
    "**Problem 3**: Write a python function that will take batch name and a date range as input and outputs the most consistent student in that given daterange and batch\n",
    "\n",
    "**Note**: Come up with your definition of consistency\n",
    "\n",
    "**Marks - 20** "
   ]
  },
  {
   "cell_type": "code",
   "execution_count": 0,
   "metadata": {
    "colab": {},
    "colab_type": "code",
    "id": "pM3qakcfMQEn"
   },
   "outputs": [],
   "source": [
    "# Write your code here"
   ]
  },
  {
   "cell_type": "markdown",
   "metadata": {
    "colab_type": "text",
    "id": "isIEYJsfME2W"
   },
   "source": [
    "**Problem 4**: Find the best student across batches\n",
    "\n",
    "**Marks - 20**"
   ]
  },
  {
   "cell_type": "code",
   "execution_count": 596,
   "metadata": {
    "colab": {},
    "colab_type": "code",
    "id": "fScqy8GkKtzS"
   },
   "outputs": [
    {
     "name": "stdout",
     "output_type": "stream",
     "text": [
      "The best student accross the batches is \n",
      " fname   lname  batch_name                \n",
      "Ritwik  Ghosh  Machine Learning Kolkata 2    154.5\n",
      "Name: score, dtype: float64\n"
     ]
    }
   ],
   "source": [
    "# Write your code here\n",
    "x1=evaluation.merge(users,left_on='user_id',right_on='user_id')\n",
    "    x1=x1.merge(batch,left_on='batch_id',right_on='batch_id')\n",
    "x8=x1.groupby(['fname','lname','batch_name'])\n",
    "x8=x8['score'].sum().sort_values(ascending=False).head(1)\n",
    "print(\"The best student accross the batches is \\n\",x8)"
   ]
  },
  {
   "cell_type": "markdown",
   "metadata": {
    "colab_type": "text",
    "id": "i_nZV2O0MfpA"
   },
   "source": [
    "**Problem 5** : Write a function/piece of analysis that can compare the performance of 2 batches on the whole\n",
    "\n",
    "**Note**: Again Abstract\n",
    "\n",
    "**Note 2**: Will be judging you a lot on the basis of this.\n",
    "\n",
    "**Note 3**: You can get an instant internship under us, if can apply the right thought process to this problem\n",
    "\n",
    "**Marks - 50**"
   ]
  },
  {
   "cell_type": "code",
   "execution_count": 597,
   "metadata": {
    "colab": {},
    "colab_type": "code",
    "id": "lwJ1FkVqNCK1"
   },
   "outputs": [
    {
     "data": {
      "text/html": [
       "<div>\n",
       "<style scoped>\n",
       "    .dataframe tbody tr th:only-of-type {\n",
       "        vertical-align: middle;\n",
       "    }\n",
       "\n",
       "    .dataframe tbody tr th {\n",
       "        vertical-align: top;\n",
       "    }\n",
       "\n",
       "    .dataframe thead th {\n",
       "        text-align: right;\n",
       "    }\n",
       "</style>\n",
       "<table border=\"1\" class=\"dataframe\">\n",
       "  <thead>\n",
       "    <tr style=\"text-align: right;\">\n",
       "      <th></th>\n",
       "      <th>batch_id</th>\n",
       "      <th>batch_name</th>\n",
       "      <th>batch_start_date</th>\n",
       "    </tr>\n",
       "  </thead>\n",
       "  <tbody>\n",
       "    <tr>\n",
       "      <td>0</td>\n",
       "      <td>1</td>\n",
       "      <td>Machine Learning Kolkata 1</td>\n",
       "      <td>2020-01-01</td>\n",
       "    </tr>\n",
       "    <tr>\n",
       "      <td>1</td>\n",
       "      <td>2</td>\n",
       "      <td>Machine Learning HIT 1</td>\n",
       "      <td>2020-01-01</td>\n",
       "    </tr>\n",
       "    <tr>\n",
       "      <td>2</td>\n",
       "      <td>3</td>\n",
       "      <td>Machine Learning Kolkata 2</td>\n",
       "      <td>2020-01-19</td>\n",
       "    </tr>\n",
       "  </tbody>\n",
       "</table>\n",
       "</div>"
      ],
      "text/plain": [
       "   batch_id                  batch_name batch_start_date\n",
       "0         1  Machine Learning Kolkata 1       2020-01-01\n",
       "1         2      Machine Learning HIT 1       2020-01-01\n",
       "2         3  Machine Learning Kolkata 2       2020-01-19"
      ]
     },
     "execution_count": 597,
     "metadata": {},
     "output_type": "execute_result"
    }
   ],
   "source": [
    "# Write your code here\n",
    "batch"
   ]
  },
  {
   "cell_type": "code",
   "execution_count": 599,
   "metadata": {},
   "outputs": [],
   "source": [
    "def compare(l1,l2):\n",
    "    import matplotlib.pyplot as plt\n",
    "    a0=users.merge(batch,left_on='batch_id',right_on='batch_id')\n",
    "    a1=a0['batch_name']==l1\n",
    "    a1=a0[a1]\n",
    "    v3=a1.shape[0]\n",
    "    a4=a0['batch_name']==l2\n",
    "    a4=a0[a4]\n",
    "    v6=a4.shape[0]\n",
    "    g1=myday.dropna()\n",
    "    w1=g1.groupby('user_id')\n",
    "    m1=g1.merge(users,left_on='user_id',right_on='user_id')\n",
    "    m1=m1.merge(batch,left_on='batch_id',right_on='batch_id')\n",
    "    v1=m1['batch_name']==l2\n",
    "    v1=m1[v1]\n",
    "    v4=v1.shape[0]\n",
    "    v5=v4/v6\n",
    "    v2=m1['batch_name']==l1\n",
    "    v2=m1[v2]\n",
    "    v7=v2.shape[0]\n",
    "    v8=v7/v3\n",
    "    labels=l1,l2\n",
    "    sizes=[v5,v8]\n",
    "    p5=plt.pie(sizes, labels=labels,autopct='%1.1f%%')\n",
    "    p5=plt.title(\"Most Active Group In Terms Of MYDAY\")\n",
    "    p5=plt.show()\n",
    "    #print (p5)\n",
    "    m2=gyan.merge(users,left_on='user_id',right_on='user_id')\n",
    "    m2=m2.merge(batch,left_on='batch_id',right_on='batch_id')\n",
    "    v9=m2['batch_name']==l2\n",
    "    v9=m2[v9]\n",
    "    v10=v9.shape[0]\n",
    "    v13=v10/v6\n",
    "    v11=m2['batch_name']==l1\n",
    "    v11=m2[v11]\n",
    "    v12=v11.shape[0]\n",
    "    v14=v12/v3\n",
    "    sizes1=[v13,v14]\n",
    "    labels1=l2,l1\n",
    "    p6=plt.pie(sizes1,labels=labels1,autopct='%1.1f%%')\n",
    "    p6=plt.title(\"\\nMost Active Group In Terms Of GYAN\")\n",
    "    p6=plt.show()\n",
    "    m3=evaluation.merge(users,left_on='user_id',right_on='user_id')\n",
    "    m3=m3.merge(batch,left_on='batch_id',right_on='batch_id')\n",
    "    w1=m3['batch_name']==l1\n",
    "    w2=m3['batch_name']==l2\n",
    "    m4=m3[w1]\n",
    "    m5=m3[w2]\n",
    "    v15=m4.groupby(['user_id','fname','lname'])\n",
    "    v16=m5.groupby(['user_id','fname','lname'])\n",
    "    v15=v15['score'].sum().sort_values(ascending=False).head(1)\n",
    "    v16=v16['score'].sum().sort_values(ascending=False).head(1)\n",
    "    print(\"\\nThe highest score scored by the batch\",l1+\" is\\n\", v15)\n",
    "    print(\"\\n\\nThe highest score scored by the batch\",l2+\" is\\n\", v16)\n",
    "    m3=evaluation.merge(users,left_on='user_id',right_on='user_id')\n",
    "    m3=m3.merge(batch,left_on='batch_id',right_on='batch_id')\n",
    "    v17=m3['late']!=0\n",
    "    v17=m3[v17]\n",
    "    w2=v17['batch_name']==l1\n",
    "    w2=v17[w2]\n",
    "    w3=w2.groupby(['user_id','fname','lname','batch_name'])\n",
    "    w3=w3['late'].sum().sort_values(ascending=False).head(5)\n",
    "    v18=w2.shape[0]\n",
    "    v18=v18/v3\n",
    "    w4=v17['batch_name']==l2\n",
    "    w4=v17[w4]\n",
    "    w5=w4.groupby(['user_id','fname','lname','batch_name'])\n",
    "    w5=w5['late'].sum().sort_values(ascending=False).head(5)\n",
    "    v19=w4.shape[0]\n",
    "    v19=v19/v6\n",
    "    size2=[v18,v19]\n",
    "    label1=l1,l2\n",
    "    p7=plt.pie(size2,labels=labels1,autopct='%1.1f%%')\n",
    "    p7=plt.title(\"\\nPencentage of late submissins\")\n",
    "    p7=plt.show()\n",
    "    #print(p7)\n",
    "    print(\"\\nTop 5 late submmiters from the batch\",l1+\" is\\n\",w3)\n",
    "    print(\"\\n\\nTop 5 late submmiters from the batch\",l2+\" is\\n\",w5)\n",
    "    v20=m3['winner']!=0\n",
    "    v20=m3[v20]\n",
    "    w6=v20['batch_name']==l1\n",
    "    w6=v20[w6]\n",
    "    w7=w6.groupby(['user_id','fname','lname','batch_name'])\n",
    "    w7=w7['winner'].sum().sort_values(ascending=False).head(5)\n",
    "    v21=w6.shape[0]\n",
    "    v21=v21/v3\n",
    "    w8=v20['batch_name']==l2\n",
    "    w8=v20[w8]\n",
    "    w9=w8.groupby(['user_id','fname','lname','batch_name'])\n",
    "    w9=w9['winner'].sum().sort_values(ascending=False).head(5)\n",
    "    v22=w8.shape[0]\n",
    "    v22=v22/v6\n",
    "    size3=[v21,v22]\n",
    "    label2=l1,l2\n",
    "    p8=plt.pie(size3,labels=label2,autopct='%1.1f%%')\n",
    "    p8=plt.title(\"\\nPencentage of Winners\")\n",
    "    p8=plt.show()\n",
    "    print(\"\\nTop 5 winners from the batch\",l1+\" is\\n\",w7)\n",
    "    print(\"\\n\\nTop 5 winners from the batch\",l2+\" is\\n\",w9)"
   ]
  },
  {
   "cell_type": "code",
   "execution_count": 600,
   "metadata": {},
   "outputs": [
    {
     "data": {
      "image/png": "[encoded data removed]",
      "text/plain": [
       "<Figure size 432x288 with 1 Axes>"
      ]
     },
     "metadata": {},
     "output_type": "display_data"
    },
    {
     "data": {
      "image/png": "[encoded data removed]",
      "text/plain": [
       "<Figure size 432x288 with 1 Axes>"
      ]
     },
     "metadata": {},
     "output_type": "display_data"
    },
    {
     "name": "stdout",
     "output_type": "stream",
     "text": [
      "\n",
      "The highest score scored by the batch Machine Learning Kolkata 1 is\n",
      " user_id  fname   lname \n",
      "16       Shakib  Mondal    128.0\n",
      "Name: score, dtype: float64\n",
      "\n",
      "\n",
      "The highest score scored by the batch Machine Learning Kolkata 2 is\n",
      " user_id  fname   lname\n",
      "75       Ritwik  Ghosh    154.5\n",
      "Name: score, dtype: float64\n"
     ]
    },
    {
     "data": {
      "image/png": "[encoded data removed]",
      "text/plain": [
       "<Figure size 432x288 with 1 Axes>"
      ]
     },
     "metadata": {},
     "output_type": "display_data"
    },
    {
     "name": "stdout",
     "output_type": "stream",
     "text": [
      "\n",
      "Top 5 late submmiters from the batch Machine Learning Kolkata 1 is\n",
      " user_id  fname      lname    batch_name                \n",
      "21       Ujjainee   De       Machine Learning Kolkata 1    3\n",
      "1        Durga      Agarwal  Machine Learning Kolkata 1    3\n",
      "18       Chandrima  Sarkar   Machine Learning Kolkata 1    2\n",
      "16       Shakib     Mondal   Machine Learning Kolkata 1    2\n",
      "14       Surabhi    Basak    Machine Learning Kolkata 1    2\n",
      "Name: late, dtype: int64\n",
      "\n",
      "\n",
      "Top 5 late submmiters from the batch Machine Learning Kolkata 2 is\n",
      " user_id  fname       lname           batch_name                \n",
      "105      GAZAL       GARG            Machine Learning Kolkata 2    4\n",
      "85       Sarthak     Kundu           Machine Learning Kolkata 2    4\n",
      "70       Sagar       Sarkar          Machine Learning Kolkata 2    4\n",
      "104      Priscila    Tamang Ghising  Machine Learning Kolkata 2    4\n",
      "84       Madhuparna  Majumdar        Machine Learning Kolkata 2    4\n",
      "Name: late, dtype: int64\n"
     ]
    },
    {
     "data": {
      "image/png": "[encoded data removed]",
      "text/plain": [
       "<Figure size 432x288 with 1 Axes>"
      ]
     },
     "metadata": {},
     "output_type": "display_data"
    },
    {
     "name": "stdout",
     "output_type": "stream",
     "text": [
      "\n",
      "Top 5 winners from the batch Machine Learning Kolkata 1 is\n",
      " user_id  fname     lname       batch_name                \n",
      "15       Kunal     N. Gohrani  Machine Learning Kolkata 1    5\n",
      "16       Shakib    Mondal      Machine Learning Kolkata 1    3\n",
      "12       Vishal    Malo        Machine Learning Kolkata 1    3\n",
      "5        Purbita   Sur         Machine Learning Kolkata 1    3\n",
      "21       Ujjainee  De          Machine Learning Kolkata 1    2\n",
      "Name: winner, dtype: int64\n",
      "\n",
      "\n",
      "Top 5 winners from the batch Machine Learning Kolkata 2 is\n",
      " user_id  fname       lname     batch_name                \n",
      "90       Ritayan     Dhara     Machine Learning Kolkata 2    7\n",
      "78       Balaka      Biswas    Machine Learning Kolkata 2    5\n",
      "75       Ritwik      Ghosh     Machine Learning Kolkata 2    5\n",
      "93       Writuparna  Banerjee  Machine Learning Kolkata 2    4\n",
      "76       Ritik       Verma     Machine Learning Kolkata 2    4\n",
      "Name: winner, dtype: int64\n"
     ]
    }
   ],
   "source": [
    "compare('Machine Learning Kolkata 1','Machine Learning Kolkata 2')\n"
   ]
  },
  {
   "cell_type": "markdown",
   "metadata": {
    "colab_type": "text",
    "id": "YBW2zMk6NuA4"
   },
   "source": [
    "**Problem 6** : Surprise us\n",
    "\n",
    "**Description**: Find something(point/points of analysis) that might surprise us\n",
    "\n",
    "**Marks - 50**"
   ]
  },
  {
   "cell_type": "code",
   "execution_count": 619,
   "metadata": {},
   "outputs": [
    {
     "name": "stdout",
     "output_type": "stream",
     "text": [
      "Top 3 tasks which have most late submissions\n",
      " task_id  task_name                                                  \n",
      "30       Numpy Assignment 4                                             18\n",
      "31       Numpy Assessment                                               16\n",
      "22       ML #2 Task #2 Create schema of Milestone project on AWS RDS    10\n",
      "Name: late, dtype: int64\n"
     ]
    }
   ],
   "source": [
    "k1=evaluation.merge(tasks,left_on='task_id',right_on='task_id')\n",
    "k2=k1.groupby(['task_id','task_name'])\n",
    "k3=k2['late'].sum().sort_values(ascending=False).head(3)\n",
    "print (\"Top 3 tasks which have most late submissions\\n\",k3)"
   ]
  },
  {
   "cell_type": "code",
   "execution_count": 0,
   "metadata": {
    "colab": {},
    "colab_type": "code",
    "id": "Nq3QoJeYOCEo"
   },
   "outputs": [],
   "source": []
  }
 ],
 "metadata": {
  "colab": {
   "authorship_tag": "ABX9TyOCZmTIaKkVxfroShWRw9uX",
   "name": "Pandas-hackathon.ipynb",
   "provenance": []
  },
  "kernelspec": {
   "display_name": "Python 3",
   "language": "python",
   "name": "python3"
  },
  "language_info": {
   "codemirror_mode": {
    "name": "ipython",
    "version": 3
   },
   "file_extension": ".py",
   "mimetype": "text/x-python",
   "name": "python",
   "nbconvert_exporter": "python",
   "pygments_lexer": "ipython3",
   "version": "3.7.4"
  }
 },
 "nbformat": 4,
 "nbformat_minor": 1
}
